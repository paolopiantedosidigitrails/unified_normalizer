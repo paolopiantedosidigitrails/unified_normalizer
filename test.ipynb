{
 "cells": [
  {
   "cell_type": "code",
   "execution_count": 1,
   "metadata": {},
   "outputs": [],
   "source": [
    "import pandas as pd\n",
    "import numpy as np"
   ]
  },
  {
   "cell_type": "code",
   "execution_count": 36,
   "metadata": {},
   "outputs": [],
   "source": [
    "df = pd.read_csv('data/skills_dataset copy.csv', sep=';')"
   ]
  },
  {
   "cell_type": "code",
   "execution_count": 37,
   "metadata": {},
   "outputs": [],
   "source": [
    "df['random'] = np.random.rand(df.shape[0])"
   ]
  },
  {
   "cell_type": "code",
   "execution_count": 28,
   "metadata": {},
   "outputs": [
    {
     "data": {
      "text/plain": [
       "array([0.18639414, 0.04075428, 0.69727035, ..., 0.94922443, 0.42831492,\n",
       "       0.1233602 ])"
      ]
     },
     "execution_count": 28,
     "metadata": {},
     "output_type": "execute_result"
    }
   ],
   "source": [
    "np.random.rand(df.shape[0])"
   ]
  },
  {
   "cell_type": "code",
   "execution_count": 32,
   "metadata": {},
   "outputs": [],
   "source": [
    "df = df[['skill_normalized', 'domain', 'field', 'type_of_skill']].drop_duplicates()\n",
    "# df['skill_normalized'].value_counts()\n"
   ]
  },
  {
   "cell_type": "code",
   "execution_count": 34,
   "metadata": {},
   "outputs": [
    {
     "data": {
      "text/html": [
       "<div>\n",
       "<style scoped>\n",
       "    .dataframe tbody tr th:only-of-type {\n",
       "        vertical-align: middle;\n",
       "    }\n",
       "\n",
       "    .dataframe tbody tr th {\n",
       "        vertical-align: top;\n",
       "    }\n",
       "\n",
       "    .dataframe thead th {\n",
       "        text-align: right;\n",
       "    }\n",
       "</style>\n",
       "<table border=\"1\" class=\"dataframe\">\n",
       "  <thead>\n",
       "    <tr style=\"text-align: right;\">\n",
       "      <th></th>\n",
       "      <th>skill_normalized</th>\n",
       "      <th>domain</th>\n",
       "      <th>field</th>\n",
       "      <th>type_of_skill</th>\n",
       "    </tr>\n",
       "  </thead>\n",
       "  <tbody>\n",
       "    <tr>\n",
       "      <th>2027</th>\n",
       "      <td>Maintenance</td>\n",
       "      <td>General</td>\n",
       "      <td>General</td>\n",
       "      <td>Soft</td>\n",
       "    </tr>\n",
       "    <tr>\n",
       "      <th>1421</th>\n",
       "      <td>Computer Science</td>\n",
       "      <td>General, Computer Science</td>\n",
       "      <td>IT</td>\n",
       "      <td>Hard</td>\n",
       "    </tr>\n",
       "    <tr>\n",
       "      <th>990</th>\n",
       "      <td>Sketch</td>\n",
       "      <td>Design, Art, Modeling</td>\n",
       "      <td>Design</td>\n",
       "      <td>Hard</td>\n",
       "    </tr>\n",
       "    <tr>\n",
       "      <th>9772</th>\n",
       "      <td>Military Occupational Specialties</td>\n",
       "      <td>Military</td>\n",
       "      <td>Military</td>\n",
       "      <td>Hard</td>\n",
       "    </tr>\n",
       "    <tr>\n",
       "      <th>991</th>\n",
       "      <td>Sketch</td>\n",
       "      <td>Design, Art, Modeling</td>\n",
       "      <td>Design</td>\n",
       "      <td>Hard, Soft</td>\n",
       "    </tr>\n",
       "    <tr>\n",
       "      <th>9653</th>\n",
       "      <td>Military Occupational Specialties</td>\n",
       "      <td>Military, Health and Safety</td>\n",
       "      <td>Military, Healthcare</td>\n",
       "      <td>Hard, Soft</td>\n",
       "    </tr>\n",
       "    <tr>\n",
       "      <th>1875</th>\n",
       "      <td>Computer Science</td>\n",
       "      <td>Computer Science, Software Engineering</td>\n",
       "      <td>IT</td>\n",
       "      <td>Hard</td>\n",
       "    </tr>\n",
       "    <tr>\n",
       "      <th>2151</th>\n",
       "      <td>Maintenance</td>\n",
       "      <td>General</td>\n",
       "      <td>Automotives, General</td>\n",
       "      <td>Hard</td>\n",
       "    </tr>\n",
       "  </tbody>\n",
       "</table>\n",
       "</div>"
      ],
      "text/plain": [
       "                       skill_normalized  \\\n",
       "2027                        Maintenance   \n",
       "1421                   Computer Science   \n",
       "990                              Sketch   \n",
       "9772  Military Occupational Specialties   \n",
       "991                              Sketch   \n",
       "9653  Military Occupational Specialties   \n",
       "1875                   Computer Science   \n",
       "2151                        Maintenance   \n",
       "\n",
       "                                      domain                 field  \\\n",
       "2027                                 General               General   \n",
       "1421               General, Computer Science                    IT   \n",
       "990                    Design, Art, Modeling                Design   \n",
       "9772                                Military              Military   \n",
       "991                    Design, Art, Modeling                Design   \n",
       "9653             Military, Health and Safety  Military, Healthcare   \n",
       "1875  Computer Science, Software Engineering                    IT   \n",
       "2151                                 General  Automotives, General   \n",
       "\n",
       "     type_of_skill  \n",
       "2027          Soft  \n",
       "1421          Hard  \n",
       "990           Hard  \n",
       "9772          Hard  \n",
       "991     Hard, Soft  \n",
       "9653    Hard, Soft  \n",
       "1875          Hard  \n",
       "2151          Hard  "
      ]
     },
     "execution_count": 34,
     "metadata": {},
     "output_type": "execute_result"
    }
   ],
   "source": [
    "df[df['skill_normalized'].isin(['Sketch', 'Computer Science', 'Maintenance','Military Occupational Specialties'])]"
   ]
  },
  {
   "cell_type": "code",
   "execution_count": 24,
   "metadata": {},
   "outputs": [
    {
     "data": {
      "text/plain": [
       "skill_normalized\n",
       "Sketch                               2\n",
       "Computer Science                     2\n",
       "Maintenance                          2\n",
       "Military Occupational Specialties    2\n",
       ".NET                                 1\n",
       "                                    ..\n",
       "Environmental Science                1\n",
       "Environmental and Regulatory Law     1\n",
       "Epidemiology                         1\n",
       "Event Planning                       1\n",
       "vSphere                              1\n",
       "Name: count, Length: 788, dtype: int64"
      ]
     },
     "execution_count": 24,
     "metadata": {},
     "output_type": "execute_result"
    }
   ],
   "source": [
    "# df['skill_normalized'].value_counts()"
   ]
  },
  {
   "cell_type": "code",
   "execution_count": 29,
   "metadata": {},
   "outputs": [],
   "source": [
    "df.sort_values(by=df['skill_normalized'].value_counts(), inplace=True)\n",
    "df"
   ]
  },
  {
   "cell_type": "code",
   "execution_count": 40,
   "metadata": {},
   "outputs": [],
   "source": [
    "df['skill_normalized'].value_counts().to_csv('skill_normalized_counts.csv')"
   ]
  },
  {
   "cell_type": "code",
   "execution_count": 38,
   "metadata": {},
   "outputs": [],
   "source": [
    "df = df.sort_values(by='random')\n",
    "df = df.drop('random', axis=1)"
   ]
  },
  {
   "cell_type": "code",
   "execution_count": 39,
   "metadata": {},
   "outputs": [],
   "source": [
    "df[['skill_raw', 'skill_normalized']].to_csv('skills_dataset_random.csv', index=False, sep=';')"
   ]
  },
  {
   "cell_type": "code",
   "execution_count": 8,
   "metadata": {},
   "outputs": [],
   "source": [
    "df = pd.read_csv('skill_normalized_counts.csv')"
   ]
  },
  {
   "cell_type": "code",
   "execution_count": 10,
   "metadata": {},
   "outputs": [
    {
     "data": {
      "text/html": [
       "<div>\n",
       "<style scoped>\n",
       "    .dataframe tbody tr th:only-of-type {\n",
       "        vertical-align: middle;\n",
       "    }\n",
       "\n",
       "    .dataframe tbody tr th {\n",
       "        vertical-align: top;\n",
       "    }\n",
       "\n",
       "    .dataframe thead th {\n",
       "        text-align: right;\n",
       "    }\n",
       "</style>\n",
       "<table border=\"1\" class=\"dataframe\">\n",
       "  <thead>\n",
       "    <tr style=\"text-align: right;\">\n",
       "      <th></th>\n",
       "      <th>skill_normalized</th>\n",
       "      <th>too_generic</th>\n",
       "    </tr>\n",
       "  </thead>\n",
       "  <tbody>\n",
       "    <tr>\n",
       "      <th>54</th>\n",
       "      <td>Teamwork</td>\n",
       "      <td>1</td>\n",
       "    </tr>\n",
       "    <tr>\n",
       "      <th>71</th>\n",
       "      <td>Proactivity</td>\n",
       "      <td>1</td>\n",
       "    </tr>\n",
       "    <tr>\n",
       "      <th>74</th>\n",
       "      <td>Resilience</td>\n",
       "      <td>1</td>\n",
       "    </tr>\n",
       "    <tr>\n",
       "      <th>75</th>\n",
       "      <td>Work Ethic</td>\n",
       "      <td>1</td>\n",
       "    </tr>\n",
       "    <tr>\n",
       "      <th>77</th>\n",
       "      <td>Well Educated</td>\n",
       "      <td>1</td>\n",
       "    </tr>\n",
       "    <tr>\n",
       "      <th>78</th>\n",
       "      <td>Engineering</td>\n",
       "      <td>1</td>\n",
       "    </tr>\n",
       "    <tr>\n",
       "      <th>83</th>\n",
       "      <td>Time Management</td>\n",
       "      <td>1</td>\n",
       "    </tr>\n",
       "    <tr>\n",
       "      <th>102</th>\n",
       "      <td>Good Attitude</td>\n",
       "      <td>1</td>\n",
       "    </tr>\n",
       "    <tr>\n",
       "      <th>103</th>\n",
       "      <td>Result Driven</td>\n",
       "      <td>1</td>\n",
       "    </tr>\n",
       "    <tr>\n",
       "      <th>120</th>\n",
       "      <td>Tech Savvy</td>\n",
       "      <td>1</td>\n",
       "    </tr>\n",
       "    <tr>\n",
       "      <th>127</th>\n",
       "      <td>New Business</td>\n",
       "      <td>1</td>\n",
       "    </tr>\n",
       "    <tr>\n",
       "      <th>155</th>\n",
       "      <td>Productivity</td>\n",
       "      <td>1</td>\n",
       "    </tr>\n",
       "    <tr>\n",
       "      <th>162</th>\n",
       "      <td>Attention to Detail</td>\n",
       "      <td>1</td>\n",
       "    </tr>\n",
       "    <tr>\n",
       "      <th>177</th>\n",
       "      <td>Accountability</td>\n",
       "      <td>1</td>\n",
       "    </tr>\n",
       "    <tr>\n",
       "      <th>181</th>\n",
       "      <td>Technician</td>\n",
       "      <td>1</td>\n",
       "    </tr>\n",
       "    <tr>\n",
       "      <th>182</th>\n",
       "      <td>Passionate</td>\n",
       "      <td>1</td>\n",
       "    </tr>\n",
       "    <tr>\n",
       "      <th>195</th>\n",
       "      <td>Autonomy</td>\n",
       "      <td>1</td>\n",
       "    </tr>\n",
       "    <tr>\n",
       "      <th>197</th>\n",
       "      <td>Critical Thinking</td>\n",
       "      <td>1</td>\n",
       "    </tr>\n",
       "    <tr>\n",
       "      <th>210</th>\n",
       "      <td>Prioritization Skills</td>\n",
       "      <td>1</td>\n",
       "    </tr>\n",
       "    <tr>\n",
       "      <th>216</th>\n",
       "      <td>Qualified</td>\n",
       "      <td>1</td>\n",
       "    </tr>\n",
       "    <tr>\n",
       "      <th>220</th>\n",
       "      <td>Microsoft PowerPoint</td>\n",
       "      <td>1</td>\n",
       "    </tr>\n",
       "    <tr>\n",
       "      <th>222</th>\n",
       "      <td>Digital Awareness</td>\n",
       "      <td>1</td>\n",
       "    </tr>\n",
       "    <tr>\n",
       "      <th>277</th>\n",
       "      <td>Consultancy</td>\n",
       "      <td>1</td>\n",
       "    </tr>\n",
       "    <tr>\n",
       "      <th>283</th>\n",
       "      <td>Talend</td>\n",
       "      <td>1</td>\n",
       "    </tr>\n",
       "    <tr>\n",
       "      <th>284</th>\n",
       "      <td>Consolidation</td>\n",
       "      <td>1</td>\n",
       "    </tr>\n",
       "    <tr>\n",
       "      <th>288</th>\n",
       "      <td>Microsoft Word</td>\n",
       "      <td>1</td>\n",
       "    </tr>\n",
       "    <tr>\n",
       "      <th>350</th>\n",
       "      <td>Characterization</td>\n",
       "      <td>1</td>\n",
       "    </tr>\n",
       "    <tr>\n",
       "      <th>402</th>\n",
       "      <td>Service Change</td>\n",
       "      <td>1</td>\n",
       "    </tr>\n",
       "    <tr>\n",
       "      <th>546</th>\n",
       "      <td>Online Research</td>\n",
       "      <td>1</td>\n",
       "    </tr>\n",
       "    <tr>\n",
       "      <th>587</th>\n",
       "      <td>Pragmatic</td>\n",
       "      <td>1</td>\n",
       "    </tr>\n",
       "    <tr>\n",
       "      <th>602</th>\n",
       "      <td>field</td>\n",
       "      <td>1</td>\n",
       "    </tr>\n",
       "    <tr>\n",
       "      <th>603</th>\n",
       "      <td>Workday</td>\n",
       "      <td>1</td>\n",
       "    </tr>\n",
       "    <tr>\n",
       "      <th>611</th>\n",
       "      <td>Gaussian</td>\n",
       "      <td>1</td>\n",
       "    </tr>\n",
       "    <tr>\n",
       "      <th>637</th>\n",
       "      <td>innovation</td>\n",
       "      <td>1</td>\n",
       "    </tr>\n",
       "    <tr>\n",
       "      <th>719</th>\n",
       "      <td>Microsoft Powerpoint</td>\n",
       "      <td>1</td>\n",
       "    </tr>\n",
       "    <tr>\n",
       "      <th>723</th>\n",
       "      <td>Prioritizazion</td>\n",
       "      <td>1</td>\n",
       "    </tr>\n",
       "    <tr>\n",
       "      <th>744</th>\n",
       "      <td>Volunteering</td>\n",
       "      <td>1</td>\n",
       "    </tr>\n",
       "    <tr>\n",
       "      <th>778</th>\n",
       "      <td>Digital Literacy</td>\n",
       "      <td>1</td>\n",
       "    </tr>\n",
       "  </tbody>\n",
       "</table>\n",
       "</div>"
      ],
      "text/plain": [
       "          skill_normalized  too_generic\n",
       "54                Teamwork            1\n",
       "71             Proactivity            1\n",
       "74              Resilience            1\n",
       "75              Work Ethic            1\n",
       "77           Well Educated            1\n",
       "78             Engineering            1\n",
       "83         Time Management            1\n",
       "102          Good Attitude            1\n",
       "103          Result Driven            1\n",
       "120             Tech Savvy            1\n",
       "127           New Business            1\n",
       "155           Productivity            1\n",
       "162    Attention to Detail            1\n",
       "177         Accountability            1\n",
       "181             Technician            1\n",
       "182             Passionate            1\n",
       "195               Autonomy            1\n",
       "197      Critical Thinking            1\n",
       "210  Prioritization Skills            1\n",
       "216              Qualified            1\n",
       "220   Microsoft PowerPoint            1\n",
       "222      Digital Awareness            1\n",
       "277            Consultancy            1\n",
       "283                 Talend            1\n",
       "284          Consolidation            1\n",
       "288         Microsoft Word            1\n",
       "350       Characterization            1\n",
       "402         Service Change            1\n",
       "546        Online Research            1\n",
       "587              Pragmatic            1\n",
       "602                  field            1\n",
       "603                Workday            1\n",
       "611               Gaussian            1\n",
       "637             innovation            1\n",
       "719   Microsoft Powerpoint            1\n",
       "723         Prioritizazion            1\n",
       "744           Volunteering            1\n",
       "778       Digital Literacy            1"
      ]
     },
     "execution_count": 10,
     "metadata": {},
     "output_type": "execute_result"
    }
   ],
   "source": [
    "df [df['too_generic'] == 1]"
   ]
  },
  {
   "cell_type": "code",
   "execution_count": null,
   "metadata": {},
   "outputs": [],
   "source": [
    "['Teamwork',\n",
    "'Proactivity',\n",
    "'Resilience',\n",
    "'Work Ethic',\n",
    "'Well Educated',\n",
    "'Time Management',\n",
    "'Good Attitude',\n",
    "'Result Driven',\n",
    "'Tech Savvy',\n",
    "'New Business',\n",
    "'Productivity',\n",
    "'Attention to Detail',\n",
    "'Accountability',\n",
    "'Technician',\n",
    "'Passionate',\n",
    "'Autonomy',\n",
    "'Critical Thinking',\n",
    "'Prioritization Skills',\n",
    "'Qualified',\n",
    "'Microsoft PowerPoint',\n",
    "'Digital Awareness',\n",
    "'Consultancy',\n",
    "'Talend',\n",
    "'Consolidation',\n",
    "'Microsoft Word',\n",
    "'Characterization',\n",
    "'Service Change',\n",
    "'Online Research',\n",
    "'Pragmatic',\n",
    "'field',\n",
    "'Workday',\n",
    "'Gaussian',\n",
    "'innovation',\n",
    "'Microsoft Powerpoint',\n",
    "'Prioritizazion',\n",
    "'Digital Literacy',\n",
    "'Corrective and Preventive Action',\n",
    "'Google Earth',\n",
    "'Precision',\n",
    "'Volunteering',\n",
    "'Language Proficiency',\n",
    "'Flexibility',\n",
    "'Engineering',\n",
    "'Consultancy',\n",
    "'Multitasking',\n",
    "'Leisure',]"
   ]
  },
  {
   "cell_type": "code",
   "execution_count": 11,
   "metadata": {},
   "outputs": [],
   "source": [
    "import pandas as pd\n",
    "import numpy as np\n",
    "import openai\n",
    "import os"
   ]
  },
  {
   "cell_type": "code",
   "execution_count": 12,
   "metadata": {},
   "outputs": [],
   "source": [
    "OPENAI_API_KEY = os.getenv(\"OPENAI_API_KEY\")\n",
    "openai.api_key = OPENAI_API_KEY"
   ]
  },
  {
   "cell_type": "code",
   "execution_count": 3,
   "metadata": {},
   "outputs": [],
   "source": [
    "df = pd.read_csv('data/example_dataset.csv', sep=';')"
   ]
  },
  {
   "cell_type": "code",
   "execution_count": 4,
   "metadata": {},
   "outputs": [],
   "source": [
    "df = df.sample(frac=1).reset_index(drop=True)\n"
   ]
  },
  {
   "cell_type": "code",
   "execution_count": 25,
   "metadata": {},
   "outputs": [],
   "source": [
    "csv_string = df.to_csv(index=False, sep=';')\n"
   ]
  },
  {
   "cell_type": "code",
   "execution_count": 26,
   "metadata": {},
   "outputs": [
    {
     "data": {
      "text/plain": [
       "\"animal_name_raw; observations; common_name; possible_scientific_name\\nPandda;possible typo;Panda;Ailuropoda melanoleuca\\nRhino;short form;Rhinoceros;Rhinocerotidae\\nGirrafe;possible typo;Giraffe;Giraffa camelopardalis\\nLong Necked Spotter;refers to a giraffe's long neck and spots;Giraffe;Giraffa camelopardalis\\nMonkay;possible typo;Monkey;Simiiformes\\nsputatore del Sudafrica;italian name for ringhals, It is not a true cobra in that it does not belong to the genus Naja, but instead belongs to the monotypic genus Hemachatus;ringhals;Hemachatus haemachatus\\nlupo;italian for wolf;Wolf;Canis lupus\\nanimal_name_raw; observations; common_name; possible_scientific_names\\nanimal_name_raw; observations; common_name; possible_scientific_names\\nkingCobra;na;King Cobra;Ophiophagus hannah\\nDog;na;Dog;Canis lupus familiaris\\nDoog\\\\;probaly a typo;Dog;Canis lupus familiaris\\nElefant;german for elephant;Elephant;Loxodonta africana\\nLoin;possible typo;Lion;Panthera leo\\nElephante;possible typo;Elephant;Loxodonta africana\\nMono;spanish for monkey;Monkey;Simiiformes\\nTuxedo Bird;refers to a penguin's black and white plumage;Penguin;Spheniscidae\\nOne Horned Wonder;refers to a rhinoceros's single horn;Rhinoceros;Rhinocerotidae\\nSilent Hunter;refers to an owl's silent flight while hunting;Owl;Strigiformes\\nHippopotame;french for hippopotamus;Hippopotamus;Hippopotamus amphibius\\nHoney Hoarder;refers to a bear's love for honey;Bear;Ursidae\\nChihuahua;this is a particular breed of dog;Dog;Canis lupus familiaris\\nRinoceronte;italian for rhinoceros;Rhinoceros;Rhinocerotidae\\nPenguino;possible typo;Penguin;Aptenodytes forsteri\\nHipopotamus;possible typo;Hippopotamus;Hippopotamus amphibius\\nCat;na;Cat;Felis catus\\nthis is my horse;na;Horse;Equus ferus caballus\\nKangoroo;possible typo;Kangaroo;Macropus\\nKoala bear;common misconception, not a bear;Koala;Phascolarctos cinereus\\nCow;na;Cow;Bos taurus\\nDesert Ship;refers to a camel's ability to travel long distances in the desert;Camel;Camelus\\nsiameise cat;na;Cat;Felis catus\\nRingtail Leaper;refers to a lemur's long, ringed tail and jumping ability;Lemur;Lemuridae\\nPinguin;german for penguin;Penguin;Aptenodytes forsteri\\nGirafe;french for giraffe;Giraffe;Giraffa camelopardalis\\nZebrra;possible typo;Zebra;Equus quagga\\nZèbre;french for zebra;Zebra;Equus quagga\\nLaughing Hyena;refers to the hyena's distinctive 'laughing' call;Hyena;Hyaenidae\\nKangourou;french for kangaroo;Kangaroo;Macropus\\nLeón;spanish for lion;Lion;Panthera leo\\nPand;short form;Panda;Ailuropoda melanoleuca\\ndog;na;Dog;Canis lupus familiaris\\n\""
      ]
     },
     "execution_count": 26,
     "metadata": {},
     "output_type": "execute_result"
    }
   ],
   "source": [
    "csv_string"
   ]
  },
  {
   "cell_type": "code",
   "execution_count": 30,
   "metadata": {},
   "outputs": [
    {
     "name": "stdout",
     "output_type": "stream",
     "text": [
      "animal_name_raw; observations; common_name; possible_scientific_name\n",
      "Pandda;possible typo;Panda;Ailuropoda melanoleuca\n",
      "Rhino;short form;Rhinoceros;Rhinocerotidae\n",
      "Girrafe;possible typo;Giraffe;Giraffa camelopardalis\n",
      "Long Necked Spotter;refers to a giraffe's long neck and spots;Giraffe;Giraffa camelopardalis\n",
      "Monkay;possible typo;Monkey;Simiiformes\n",
      "sputatore del Sudafrica;italian name for ringhals, It is not a true cobra in that it does not belong to the genus Naja, but instead belongs to the monotypic genus Hemachatus;ringhals;Hemachatus haemachatus\n",
      "lupo;italian for wolf;Wolf;Canis lupus\n",
      "animal_name_raw; observations; common_name; possible_scientific_names\n",
      "animal_name_raw; observations; common_name; possible_scientific_names\n",
      "kingCobra;na;King Cobra;Ophiophagus hannah\n",
      "Dog;na;Dog;Canis lupus familiaris\n",
      "Doog\\;probaly a typo;Dog;Canis lupus familiaris\n",
      "Elefant;german for elephant;Elephant;Loxodonta africana\n",
      "Loin;possible typo;Lion;Panthera leo\n",
      "Elephante;possible typo;Elephant;Loxodonta africana\n",
      "Mono;spanish for monkey;Monkey;Simiiformes\n",
      "Tuxedo Bird;refers to a penguin's black and white plumage;Penguin;Spheniscidae\n",
      "One Horned Wonder;refers to a rhinoceros's single horn;Rhinoceros;Rhinocerotidae\n",
      "Silent Hunter;refers to an owl's silent flight while hunting;Owl;Strigiformes\n",
      "Hippopotame;french for hippopotamus;Hippopotamus;Hippopotamus amphibius\n",
      "Honey Hoarder;refers to a bear's love for honey;Bear;Ursidae\n",
      "Chihuahua;this is a particular breed of dog;Dog;Canis lupus familiaris\n",
      "Rinoceronte;italian for rhinoceros;Rhinoceros;Rhinocerotidae\n",
      "Penguino;possible typo;Penguin;Aptenodytes forsteri\n",
      "Hipopotamus;possible typo;Hippopotamus;Hippopotamus amphibius\n",
      "Cat;na;Cat;Felis catus\n",
      "this is my horse;na;Horse;Equus ferus caballus\n",
      "Kangoroo;possible typo;Kangaroo;Macropus\n",
      "Koala bear;common misconception, not a bear;Koala;Phascolarctos cinereus\n",
      "Cow;na;Cow;Bos taurus\n",
      "Desert Ship;refers to a camel's ability to travel long distances in the desert;Camel;Camelus\n",
      "siameise cat;na;Cat;Felis catus\n",
      "Ringtail Leaper;refers to a lemur's long, ringed tail and jumping ability;Lemur;Lemuridae\n",
      "Pinguin;german for penguin;Penguin;Aptenodytes forsteri\n",
      "Girafe;french for giraffe;Giraffe;Giraffa camelopardalis\n",
      "Zebrra;possible typo;Zebra;Equus quagga\n",
      "Zèbre;french for zebra;Zebra;Equus quagga\n",
      "Laughing Hyena;refers to the hyena's distinctive 'laughing' call;Hyena;Hyaenidae\n",
      "Kangourou;french for kangaroo;Kangaroo;Macropus\n",
      "León;spanish for lion;Lion;Panthera leo\n",
      "Pand;short form;Panda;Ailuropoda melanoleuca\n",
      "dog;na;Dog;Canis lupus familiaris\n",
      "\n"
     ]
    }
   ],
   "source": [
    "print(csv_string)"
   ]
  },
  {
   "cell_type": "code",
   "execution_count": 27,
   "metadata": {},
   "outputs": [],
   "source": [
    "def call_api_with_timeout(prompt):\n",
    "    risp = openai.Completion.create(\n",
    "                        model='gpt-3.5-turbo-instruct',\n",
    "                        prompt=prompt,\n",
    "                        temperature=0.0,\n",
    "                        max_tokens=100,)\n",
    "    return risp.choices[0]['text']"
   ]
  },
  {
   "cell_type": "code",
   "execution_count": 29,
   "metadata": {},
   "outputs": [
    {
     "name": "stdout",
     "output_type": "stream",
     "text": [
      "\n",
      "animal_name_raw; observations; common_name; possible_scientific_names\n",
      "\n",
      "Pandda;possible typo;Panda;Ailuropoda melanoleuca\n",
      "Rhino;short form;Rhinoceros;Rhinocerotidae\n",
      "Girrafe;possible typo;Giraffe;Giraffa camelopardalis\n",
      "Long Necked Spotter;refers to a giraffe's long neck and spots;Giraffe;Giraff\n"
     ]
    }
   ],
   "source": [
    "print(call_api_with_timeout(csv_string))"
   ]
  },
  {
   "cell_type": "code",
   "execution_count": null,
   "metadata": {},
   "outputs": [],
   "source": []
  }
 ],
 "metadata": {
  "kernelspec": {
   "display_name": ".venv",
   "language": "python",
   "name": "python3"
  },
  "language_info": {
   "codemirror_mode": {
    "name": "ipython",
    "version": 3
   },
   "file_extension": ".py",
   "mimetype": "text/x-python",
   "name": "python",
   "nbconvert_exporter": "python",
   "pygments_lexer": "ipython3",
   "version": "3.11.6"
  }
 },
 "nbformat": 4,
 "nbformat_minor": 2
}
